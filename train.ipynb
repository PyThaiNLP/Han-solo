{
 "cells": [
  {
   "cell_type": "code",
   "execution_count": 1,
   "id": "4933dd95-d3dd-4170-917f-21554373a8ca",
   "metadata": {
    "tags": []
   },
   "outputs": [],
   "source": [
    "import re\n",
    "def striphtml(data):\n",
    "    p = re.compile(r'<.*?>')\n",
    "    return p.sub('', data)"
   ]
  },
  {
   "cell_type": "code",
   "execution_count": 2,
   "id": "565750b8-92f6-47f7-b118-c71016ae6a88",
   "metadata": {
    "tags": []
   },
   "outputs": [],
   "source": [
    "import os\n",
    "with open(os.path.join(\"data_nutcha\",\"data.txt\"),\"r\") as f:\n",
    "    data=[[j for j in striphtml(i).strip().replace(\"^^\",\"^\").replace(\"^^\",\"^\").replace(\"^^\",\"^\").split(\"^\") if j!=\"\" and j!=None]  for i in f.readlines()]"
   ]
  },
  {
   "cell_type": "code",
   "execution_count": 3,
   "id": "f7c429a7-badd-4ddd-becf-d7e88c55d5c9",
   "metadata": {
    "tags": []
   },
   "outputs": [],
   "source": [
    "# with open(os.path.join(\".\",\"han_syllable.txt\"),\"r\") as f:\n",
    "#     han_syllable=[[j for j in i.strip().split(\"|\") if j!=\"\" and j!=None]  for i in f.readlines()]"
   ]
  },
  {
   "cell_type": "code",
   "execution_count": 4,
   "id": "6e6a7154-652b-484e-89a0-6c81608ab4d2",
   "metadata": {
    "tags": []
   },
   "outputs": [],
   "source": [
    "from featurizer import Featurizer\n",
    "\n",
    "to_feature=Featurizer()"
   ]
  },
  {
   "cell_type": "code",
   "execution_count": 5,
   "id": "315e64d8-5af9-4963-a55f-f26e0051399b",
   "metadata": {
    "tags": []
   },
   "outputs": [],
   "source": [
    "def extract_features(l: list)->dict:\n",
    "    c=0\n",
    "    list_c = []\n",
    "    list_y = []\n",
    "    for i in l:\n",
    "        for k,j in enumerate(i):\n",
    "            if k==0:\n",
    "                list_y.append(\"1\")\n",
    "            else:\n",
    "                list_y.append(\"0\")\n",
    "            list_c.append(j)\n",
    "    list_y.append(\"0\")\n",
    "    return {\"X\":to_feature.featurize(''.join(list_c))[\"X\"],\"y\":list_y}"
   ]
  },
  {
   "cell_type": "code",
   "execution_count": 6,
   "id": "52ff715c-1364-430c-ac2c-17527c979318",
   "metadata": {
    "tags": []
   },
   "outputs": [
    {
     "data": {
      "text/plain": [
       "(1877, 993)"
      ]
     },
     "execution_count": 6,
     "metadata": {},
     "output_type": "execute_result"
    }
   ],
   "source": [
    "len(data)#,len(han_syllable)"
   ]
  },
  {
   "cell_type": "code",
   "execution_count": null,
   "id": "562b6541-8c69-4447-bd4d-dcf1350856e8",
   "metadata": {},
   "outputs": [],
   "source": []
  },
  {
   "cell_type": "code",
   "execution_count": 7,
   "id": "0f3eee69-a0b3-46af-9edf-63f16aba1f69",
   "metadata": {
    "tags": []
   },
   "outputs": [],
   "source": [
    "temp=extract_features(data[0])"
   ]
  },
  {
   "cell_type": "code",
   "execution_count": 8,
   "id": "b1b69618-5f4c-47d9-ae25-f4e9967abb94",
   "metadata": {
    "tags": []
   },
   "outputs": [],
   "source": [
    "from sklearn.model_selection import train_test_split"
   ]
  },
  {
   "cell_type": "code",
   "execution_count": null,
   "id": "845278aa-f08a-4752-b07b-7a1ef37d92ed",
   "metadata": {},
   "outputs": [],
   "source": []
  },
  {
   "cell_type": "code",
   "execution_count": 10,
   "id": "ae633ecd-c09b-4f2e-931c-1cd116fa0a8f",
   "metadata": {
    "tags": []
   },
   "outputs": [],
   "source": [
    "data_train, data_test = train_test_split(data, test_size=0.2, random_state=42)\n",
    "# han_syllable_train, han_syllable_test = train_test_split(han_syllable, test_size=0.2, random_state=42)"
   ]
  },
  {
   "cell_type": "code",
   "execution_count": 46,
   "id": "d3ba8a05-fb12-4e47-a417-7494c462121b",
   "metadata": {
    "tags": []
   },
   "outputs": [],
   "source": [
    "with open(os.path.join(\"dataset\",\"han_solo_train.txt\"),\"r\") as f:\n",
    "    han_syllable_train=[[j for j in i.strip().split(\"|\") if j!=\"\" and j!=None]  for i in f.readlines()]\n",
    "with open(os.path.join(\"dataset\",\"han_solo_test.txt\"),\"r\") as f:\n",
    "    han_syllable_test=[[j for j in i.strip().split(\"|\") if j!=\"\" and j!=None]  for i in f.readlines()]"
   ]
  },
  {
   "cell_type": "code",
   "execution_count": 12,
   "id": "c0a1fb2e-d454-44be-943f-3e21dff9ca95",
   "metadata": {
    "tags": []
   },
   "outputs": [],
   "source": [
    "train=[extract_features(s) for s in data_train+han_syllable_train]\n",
    "test=[extract_features(s) for s in data_test+han_syllable_test]"
   ]
  },
  {
   "cell_type": "code",
   "execution_count": 13,
   "id": "8230b4d7-5780-4ebc-a1ff-2a24db748ce5",
   "metadata": {
    "tags": []
   },
   "outputs": [],
   "source": [
    "X_train = [i[\"X\"] for i in train]\n",
    "y_train = [i[\"y\"] for i in train]\n",
    "X_test = [i[\"X\"] for i in test]\n",
    "y_test = [i[\"y\"] for i in test]"
   ]
  },
  {
   "cell_type": "code",
   "execution_count": 14,
   "id": "007cc330-8563-4759-9e03-c283cd2dc243",
   "metadata": {
    "tags": []
   },
   "outputs": [
    {
     "data": {
      "text/plain": [
       "['-1|0',\n",
       " '0|#',\n",
       " '-2|6',\n",
       " '1|#',\n",
       " '-3|น',\n",
       " '2|#',\n",
       " '-3|น6',\n",
       " '-2|60',\n",
       " '-1|0#',\n",
       " '0|##',\n",
       " '1|##']"
      ]
     },
     "execution_count": 14,
     "metadata": {},
     "output_type": "execute_result"
    }
   ],
   "source": [
    "X_train[0][-1]"
   ]
  },
  {
   "cell_type": "code",
   "execution_count": 15,
   "id": "732937bd-190c-41c3-a31c-ebf4e98e7d7c",
   "metadata": {
    "tags": []
   },
   "outputs": [
    {
     "data": {
      "text/plain": [
       "(26, 26)"
      ]
     },
     "execution_count": 15,
     "metadata": {},
     "output_type": "execute_result"
    }
   ],
   "source": [
    "len(X_train[1]),len(y_train[1])"
   ]
  },
  {
   "cell_type": "code",
   "execution_count": 3,
   "id": "a32152fa-dbdc-44ee-935c-55a40d06db4b",
   "metadata": {
    "tags": []
   },
   "outputs": [],
   "source": [
    "import pycrfsuite"
   ]
  },
  {
   "cell_type": "code",
   "execution_count": 17,
   "id": "656978e7-c91d-421b-a270-544e52c1e2e5",
   "metadata": {
    "tags": []
   },
   "outputs": [
    {
     "name": "stdout",
     "output_type": "stream",
     "text": [
      "CPU times: user 3.58 s, sys: 68.3 ms, total: 3.65 s\n",
      "Wall time: 3.65 s\n"
     ]
    }
   ],
   "source": [
    "%%time\n",
    "trainer = pycrfsuite.Trainer(verbose=False)\n",
    "j=0\n",
    "\n",
    "for xseq, yseq in zip(X_train, y_train):\n",
    "    trainer.append(xseq, yseq)"
   ]
  },
  {
   "cell_type": "code",
   "execution_count": 18,
   "id": "f81143f8-6f4e-4e30-8e37-de9e750d350c",
   "metadata": {
    "tags": []
   },
   "outputs": [],
   "source": [
    "trainer.set_params({\n",
    "    'c1': 1.0,   # coefficient for L1 penalty\n",
    "    'c2': 1e-3,  # coefficient for L2 penalty\n",
    "    'max_iterations': 50,  # stop earlier\n",
    "\n",
    "    # include transitions that are possible, but not observed\n",
    "    'feature.possible_transitions': True\n",
    "})"
   ]
  },
  {
   "cell_type": "code",
   "execution_count": 19,
   "id": "77ebd764-181f-4eb0-9f64-bbfa89d3aef0",
   "metadata": {
    "tags": []
   },
   "outputs": [
    {
     "data": {
      "text/plain": [
       "['feature.minfreq',\n",
       " 'feature.possible_states',\n",
       " 'feature.possible_transitions',\n",
       " 'c1',\n",
       " 'c2',\n",
       " 'max_iterations',\n",
       " 'num_memories',\n",
       " 'epsilon',\n",
       " 'period',\n",
       " 'delta',\n",
       " 'linesearch',\n",
       " 'max_linesearch']"
      ]
     },
     "execution_count": 19,
     "metadata": {},
     "output_type": "execute_result"
    }
   ],
   "source": [
    "trainer.params()"
   ]
  },
  {
   "cell_type": "code",
   "execution_count": 20,
   "id": "1d79a831-cd9a-4851-9f6b-afd89fb75e2c",
   "metadata": {
    "tags": []
   },
   "outputs": [
    {
     "name": "stdout",
     "output_type": "stream",
     "text": [
      "CPU times: user 16.5 s, sys: 8.13 ms, total: 16.6 s\n",
      "Wall time: 16.6 s\n"
     ]
    }
   ],
   "source": [
    "%%time\n",
    "trainer.train('han_solo.crfsuite')"
   ]
  },
  {
   "cell_type": "code",
   "execution_count": 4,
   "id": "73741cf2-13eb-41c1-9c7d-26d873b2fb5a",
   "metadata": {
    "tags": []
   },
   "outputs": [
    {
     "data": {
      "text/plain": [
       "<contextlib.closing at 0x7efe4a4ec130>"
      ]
     },
     "execution_count": 4,
     "metadata": {},
     "output_type": "execute_result"
    }
   ],
   "source": [
    "tagger = pycrfsuite.Tagger()\n",
    "tagger.open('han_solo.crfsuite')"
   ]
  },
  {
   "cell_type": "code",
   "execution_count": 22,
   "id": "e360aa51-eaa2-494b-97d0-34c3cee3faae",
   "metadata": {
    "tags": []
   },
   "outputs": [
    {
     "data": {
      "text/plain": [
       "['1',\n",
       " '1',\n",
       " '0',\n",
       " '0',\n",
       " '1',\n",
       " '0',\n",
       " '1',\n",
       " '0',\n",
       " '1',\n",
       " '0',\n",
       " '0',\n",
       " '0',\n",
       " '0',\n",
       " '0',\n",
       " '0',\n",
       " '0',\n",
       " '0',\n",
       " '1',\n",
       " '0',\n",
       " '0']"
      ]
     },
     "execution_count": 22,
     "metadata": {},
     "output_type": "execute_result"
    }
   ],
   "source": [
    "tagger.tag(X_test[0])"
   ]
  },
  {
   "cell_type": "code",
   "execution_count": 23,
   "id": "bebce4cc-0320-4114-b32e-75d02ea8123d",
   "metadata": {
    "tags": []
   },
   "outputs": [
    {
     "data": {
      "text/plain": [
       "['1',\n",
       " '1',\n",
       " '0',\n",
       " '0',\n",
       " '1',\n",
       " '0',\n",
       " '1',\n",
       " '0',\n",
       " '1',\n",
       " '0',\n",
       " '0',\n",
       " '0',\n",
       " '0',\n",
       " '0',\n",
       " '0',\n",
       " '0',\n",
       " '0',\n",
       " '1',\n",
       " '0',\n",
       " '0']"
      ]
     },
     "execution_count": 23,
     "metadata": {},
     "output_type": "execute_result"
    }
   ],
   "source": [
    "y_test[0]"
   ]
  },
  {
   "cell_type": "code",
   "execution_count": 24,
   "id": "72b153be-b311-477f-8d14-1653c0955553",
   "metadata": {
    "tags": []
   },
   "outputs": [],
   "source": [
    "from itertools import chain\n",
    "from sklearn.metrics import classification_report, confusion_matrix\n",
    "from sklearn.preprocessing import LabelBinarizer\n",
    "import sklearn"
   ]
  },
  {
   "cell_type": "code",
   "execution_count": 25,
   "id": "6f5dff7b-e5c5-434e-92e4-a28464cd5ee8",
   "metadata": {
    "tags": []
   },
   "outputs": [],
   "source": [
    "def bio_classification_report(y_true, y_pred):\n",
    "    \"\"\"\n",
    "    Classification report for a list of BIO-encoded sequences.\n",
    "    It computes token-level metrics and discards \"O\" labels.\n",
    "    \n",
    "    Note that it requires scikit-learn 0.15+ (or a version from github master)\n",
    "    to calculate averages properly!\n",
    "    \"\"\"\n",
    "    lb = LabelBinarizer()\n",
    "    y_true_combined = lb.fit_transform(list(chain.from_iterable(y_true)))\n",
    "    y_pred_combined = lb.transform(list(chain.from_iterable(y_pred)))\n",
    "        \n",
    "    tagset = set(lb.classes_) - {'O'}\n",
    "    tagset = sorted(tagset, key=lambda tag: tag.split('-', 1)[::-1])\n",
    "    class_indices = {cls: idx for idx, cls in enumerate(lb.classes_)}\n",
    "    \n",
    "    return classification_report(\n",
    "        y_true_combined,\n",
    "        y_pred_combined,\n",
    "        labels = [class_indices[cls] for cls in tagset],\n",
    "        target_names = tagset,\n",
    "    )"
   ]
  },
  {
   "cell_type": "code",
   "execution_count": 26,
   "id": "3b9ce00a-4861-4fc4-b176-d04f99efc041",
   "metadata": {
    "tags": []
   },
   "outputs": [
    {
     "name": "stdout",
     "output_type": "stream",
     "text": [
      "CPU times: user 594 ms, sys: 19.7 ms, total: 614 ms\n",
      "Wall time: 613 ms\n"
     ]
    }
   ],
   "source": [
    "%%time\n",
    "y_pred = [tagger.tag(xseq) for xseq in X_test]"
   ]
  },
  {
   "cell_type": "code",
   "execution_count": 27,
   "id": "7c5d81ac-3bf6-4873-b001-ffc2cb7a9b34",
   "metadata": {
    "tags": []
   },
   "outputs": [
    {
     "name": "stdout",
     "output_type": "stream",
     "text": [
      "              precision    recall  f1-score   support\n",
      "\n",
      "           0       1.00      1.00      1.00     61078\n",
      "           1       1.00      0.99      0.99     29468\n",
      "\n",
      "    accuracy                           1.00     90546\n",
      "   macro avg       1.00      1.00      1.00     90546\n",
      "weighted avg       1.00      1.00      1.00     90546\n",
      "\n"
     ]
    }
   ],
   "source": [
    "print(bio_classification_report(y_test, y_pred))"
   ]
  },
  {
   "cell_type": "code",
   "execution_count": 1,
   "id": "4f95019a-45ed-4110-a6b7-8567a753cf4a",
   "metadata": {
    "tags": []
   },
   "outputs": [],
   "source": [
    "from ssg import syllable_tokenize"
   ]
  },
  {
   "cell_type": "code",
   "execution_count": 28,
   "id": "64a26ad9-4aaf-4638-b9f4-4d369cded4b6",
   "metadata": {
    "tags": []
   },
   "outputs": [
    {
     "name": "stdout",
     "output_type": "stream",
     "text": [
      "Top likely transitions:\n",
      "1      -> 0       1.995502\n",
      "0      -> 0       1.588329\n",
      "0      -> 1       1.058717\n",
      "1      -> 1       -4.032953\n",
      "\n",
      "Top unlikely transitions:\n",
      "1      -> 0       1.995502\n",
      "0      -> 0       1.588329\n",
      "0      -> 1       1.058717\n",
      "1      -> 1       -4.032953\n"
     ]
    }
   ],
   "source": [
    "from collections import Counter\n",
    "info = tagger.info()\n",
    "\n",
    "def print_transitions(trans_features):\n",
    "    for (label_from, label_to), weight in trans_features:\n",
    "        print(\"%-6s -> %-7s %0.6f\" % (label_from, label_to, weight))\n",
    "\n",
    "print(\"Top likely transitions:\")\n",
    "print_transitions(Counter(info.transitions).most_common(15))\n",
    "\n",
    "print(\"\\nTop unlikely transitions:\")\n",
    "print_transitions(Counter(info.transitions).most_common()[-15:])"
   ]
  },
  {
   "cell_type": "code",
   "execution_count": 29,
   "id": "c865592a-40c7-4bb2-8185-851eefcf3624",
   "metadata": {
    "tags": []
   },
   "outputs": [
    {
     "name": "stdout",
     "output_type": "stream",
     "text": [
      "Top positive:\n",
      "14.462897 0      0|##\n",
      "12.759949 0      1|์\n",
      "11.508617 0      0|้\n",
      "11.296093 0      0|า\n",
      "11.002358 0      0|่\n",
      "10.744058 0      2|์\n",
      "10.551424 0      -1|เ\n",
      "10.519173 0      0|ื\n",
      "10.496157 1      -1|#\n",
      "10.186005 0      0|ะ\n",
      "10.083733 1      0|(\n",
      "9.299560 1      0|ๆ\n",
      "8.900142 0      0|ิ\n",
      "8.700859 0      0|ั\n",
      "8.052195 0      0|ี\n",
      "7.986780 0      -1|ไ\n",
      "7.637504 0      0|ู\n",
      "7.576647 0      -1|แ\n",
      "7.503324 0      0|ุ\n",
      "7.211316 0      0|์\n",
      "\n",
      "Top negative:\n",
      "-2.832427 0      -2|ก็\n",
      "-2.843872 0      -1|ำ\n",
      "-2.992590 0      0|แ\n",
      "-3.015528 1      -1|ตร\n",
      "-3.092038 0      -1|ฯ\n",
      "-3.118715 0      0|ไ\n",
      "-3.125401 0      1|ู\n",
      "-3.231541 0      0|เ\n",
      "-3.317115 0      0|ใ\n",
      "-3.436506 0      1|ำ\n",
      "-3.592943 0      -1|)\n",
      "-3.656251 0      -1|\"\n",
      "-3.761735 0      0|\"\n",
      "-3.920731 0      -1|(\n",
      "-4.138270 0      0|ฯ\n",
      "-4.150953 1      -1|ั\n",
      "-4.354796 0      0|)\n",
      "-4.902392 0      -1|ๆ\n",
      "-6.360530 0      0| \n",
      "-6.405255 0      -1| \n"
     ]
    }
   ],
   "source": [
    "def print_state_features(state_features):\n",
    "    for (attr, label), weight in state_features:\n",
    "        print(\"%0.6f %-6s %s\" % (weight, label, attr))    \n",
    "\n",
    "print(\"Top positive:\")\n",
    "print_state_features(Counter(info.state_features).most_common(20))\n",
    "\n",
    "print(\"\\nTop negative:\")\n",
    "print_state_features(Counter(info.state_features).most_common()[-20:])"
   ]
  },
  {
   "cell_type": "code",
   "execution_count": 30,
   "id": "3e8b4c7d-fd42-4279-8364-44c3d5ba9b2b",
   "metadata": {
    "tags": []
   },
   "outputs": [],
   "source": [
    "def cut(text):\n",
    "    x=to_feature.featurize(text)[\"X\"]\n",
    "    y_pred = tagger.tag(x)\n",
    "    list_cut = []\n",
    "    for i,(j,k) in enumerate(zip(list(text),y_pred)):\n",
    "        if k==\"1\":\n",
    "            list_cut.append(j)\n",
    "        else:\n",
    "            list_cut[-1]+=j\n",
    "    return list_cut"
   ]
  },
  {
   "cell_type": "code",
   "execution_count": 31,
   "id": "d0d33189-32e9-4501-896e-490603bd963c",
   "metadata": {
    "tags": []
   },
   "outputs": [
    {
     "data": {
      "text/plain": [
       "['นาย', 'วรรณ', 'พงษ์', ' ', 'เป็น', 'ผู้', 'พัฒ', 'นา']"
      ]
     },
     "execution_count": 31,
     "metadata": {},
     "output_type": "execute_result"
    }
   ],
   "source": [
    "cut(\"นายวรรณพงษ์ เป็นผู้พัฒนา\")"
   ]
  },
  {
   "cell_type": "code",
   "execution_count": 33,
   "id": "fd7d8a14-b2c0-4f0f-b24b-09d325b1a5c9",
   "metadata": {
    "tags": []
   },
   "outputs": [],
   "source": [
    "text = \"✨น้องอร่อยมากเลยทุกคนนนนนน😭✨\"#\"ทดสอบการตัดพยางค์ภาษาไทย กันน:D\""
   ]
  },
  {
   "cell_type": "code",
   "execution_count": 34,
   "id": "f3b81d9b-ffcb-492d-8ab9-7b86ffc3dcc0",
   "metadata": {
    "tags": []
   },
   "outputs": [
    {
     "data": {
      "text/plain": [
       "['✨', 'น้อง', 'อร่อย', 'มาก', 'เลย', 'ทุก', 'คนนนนนน', '😭✨']"
      ]
     },
     "execution_count": 34,
     "metadata": {},
     "output_type": "execute_result"
    }
   ],
   "source": [
    "cut(text)"
   ]
  },
  {
   "cell_type": "code",
   "execution_count": 35,
   "id": "82ebc56a-d4ff-4b16-bdff-c5d686afde2b",
   "metadata": {
    "tags": []
   },
   "outputs": [
    {
     "data": {
      "text/plain": [
       "['✨', 'น้อง', 'อร่อย', 'มาก', 'เลย', 'ทุก', 'คน', 'นน', 'นน', 'น😭✨']"
      ]
     },
     "execution_count": 35,
     "metadata": {},
     "output_type": "execute_result"
    }
   ],
   "source": [
    "syllable_tokenize(text)"
   ]
  },
  {
   "cell_type": "code",
   "execution_count": null,
   "id": "34e03567-5882-45a9-aa0d-9bb4cb4dc66b",
   "metadata": {},
   "outputs": [],
   "source": []
  }
 ],
 "metadata": {
  "kernelspec": {
   "display_name": "Python 3 (ipykernel)",
   "language": "python",
   "name": "python3"
  },
  "language_info": {
   "codemirror_mode": {
    "name": "ipython",
    "version": 3
   },
   "file_extension": ".py",
   "mimetype": "text/x-python",
   "name": "python",
   "nbconvert_exporter": "python",
   "pygments_lexer": "ipython3",
   "version": "3.8.10"
  }
 },
 "nbformat": 4,
 "nbformat_minor": 5
}
