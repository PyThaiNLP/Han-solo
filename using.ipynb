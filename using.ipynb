{
 "cells": [
  {
   "cell_type": "code",
   "execution_count": null,
   "id": "d91707bf-197b-4f41-af9f-c218b1a3a7b2",
   "metadata": {},
   "outputs": [],
   "source": [
    "!pip install python-crfsuite"
   ]
  },
  {
   "cell_type": "code",
   "execution_count": null,
   "id": "9fc603be-b881-4a29-9a57-bf0ced8eb773",
   "metadata": {},
   "outputs": [],
   "source": [
    "!git clone https://github.com/pythainlp/Han-solo.git"
   ]
  },
  {
   "cell_type": "code",
   "execution_count": null,
   "id": "7be80a1a-c5e0-4833-a929-17d54976db18",
   "metadata": {},
   "outputs": [],
   "source": [
    "cd Han-solo"
   ]
  },
  {
   "cell_type": "code",
   "execution_count": 3,
   "id": "acf51ae8-3849-4784-8d60-557ec11c41ff",
   "metadata": {
    "tags": []
   },
   "outputs": [],
   "source": [
    "import pycrfsuite"
   ]
  },
  {
   "cell_type": "code",
   "execution_count": 4,
   "id": "cd38b49c-fb1e-4dff-827b-8818720c3d53",
   "metadata": {
    "tags": []
   },
   "outputs": [],
   "source": [
    "from featurizer import Featurizer\n",
    "\n",
    "to_feature=Featurizer()"
   ]
  },
  {
   "cell_type": "code",
   "execution_count": 5,
   "id": "51dea8f8-e50d-4450-b295-d16e495523cd",
   "metadata": {
    "tags": []
   },
   "outputs": [],
   "source": [
    "def extract_features(l: list)->dict:\n",
    "    c=0\n",
    "    list_c = []\n",
    "    list_y = []\n",
    "    for i in l:\n",
    "        for k,j in enumerate(i):\n",
    "            if k==0:\n",
    "                list_y.append(\"1\")\n",
    "            else:\n",
    "                list_y.append(\"0\")\n",
    "            list_c.append(j)\n",
    "    list_y.append(\"0\")\n",
    "    return {\"X\":to_feature.featurize(''.join(list_c))[\"X\"],\"y\":list_y}"
   ]
  },
  {
   "cell_type": "code",
   "execution_count": 6,
   "id": "6dd9472c-8d3c-4ef4-a195-ae2db95b9b30",
   "metadata": {
    "tags": []
   },
   "outputs": [
    {
     "data": {
      "text/plain": [
       "<contextlib.closing at 0x7f36b467d460>"
      ]
     },
     "execution_count": 6,
     "metadata": {},
     "output_type": "execute_result"
    }
   ],
   "source": [
    "tagger = pycrfsuite.Tagger()\n",
    "tagger.open('han_solo.crfsuite')"
   ]
  },
  {
   "cell_type": "code",
   "execution_count": 7,
   "id": "33458702-d799-46b4-90bf-5a31b2ba136c",
   "metadata": {
    "tags": []
   },
   "outputs": [],
   "source": [
    "def cut(text):\n",
    "    x=to_feature.featurize(text)[\"X\"]\n",
    "    y_pred = tagger.tag(x)\n",
    "    list_cut = []\n",
    "    for i,(j,k) in enumerate(zip(list(text),y_pred)):\n",
    "        if k==\"1\":\n",
    "            list_cut.append(j)\n",
    "        else:\n",
    "            list_cut[-1]+=j\n",
    "    return list_cut"
   ]
  },
  {
   "cell_type": "code",
   "execution_count": 8,
   "id": "bb957d0d-0baf-4dc8-a2a4-9fdbc57c6207",
   "metadata": {
    "tags": []
   },
   "outputs": [
    {
     "data": {
      "text/plain": [
       "['สวัส', 'ดี', 'ครับ', ' ', '^^', ' ', ':D']"
      ]
     },
     "execution_count": 8,
     "metadata": {},
     "output_type": "execute_result"
    }
   ],
   "source": [
    "cut(\"สวัสดีครับ ^^ :D\")"
   ]
  },
  {
   "cell_type": "code",
   "execution_count": null,
   "id": "b2662b93-0e9b-411a-8981-8e1879c0fe05",
   "metadata": {},
   "outputs": [],
   "source": []
  }
 ],
 "metadata": {
  "kernelspec": {
   "display_name": "Python 3 (ipykernel)",
   "language": "python",
   "name": "python3"
  },
  "language_info": {
   "codemirror_mode": {
    "name": "ipython",
    "version": 3
   },
   "file_extension": ".py",
   "mimetype": "text/x-python",
   "name": "python",
   "nbconvert_exporter": "python",
   "pygments_lexer": "ipython3",
   "version": "3.8.10"
  }
 },
 "nbformat": 4,
 "nbformat_minor": 5
}
